{
  "nbformat": 4,
  "nbformat_minor": 0,
  "metadata": {
    "colab": {
      "provenance": []
    },
    "kernelspec": {
      "name": "python3",
      "display_name": "Python 3"
    },
    "language_info": {
      "name": "python"
    }
  },
  "cells": [
    {
      "cell_type": "markdown",
      "source": [
        "<h2>\n",
        "<font color=\"#032766\">\n",
        "<b>\n",
        "PROGRAMACIÓN 1\n",
        "</b>\n",
        "</font>\n",
        "</h2>\n",
        "\n",
        "\n",
        "<h3>\n",
        "<font color=\"#032766\">\n",
        "<b>\n",
        "Trabajo práctico 7: Estructuras de datos complejas\n",
        "</b>\n",
        "</font>\n",
        "</h3>\n",
        "\n"
      ],
      "metadata": {
        "id": "7_ZiBXbIjC-j"
      }
    },
    {
      "cell_type": "markdown",
      "source": [
        "#### **Ejercicio 1**\n",
        "\n",
        "Dado el diccionario precios_frutas\n",
        "\n",
        "\n",
        "```\n",
        "precios_frutas = {'Banana': 1200, 'Ananá': 2500, 'Melón': 3000, 'Uva': 1450}\n",
        "```\n",
        "\n",
        "Añadir las siguientes frutas con sus respectivos precios:\n",
        "\n",
        "* Naranja = 1200\n",
        "* Manzana = 1500\n",
        "* Pera = 2300"
      ],
      "metadata": {
        "id": "VhsV1UbnwIkL"
      }
    },
    {
      "cell_type": "code",
      "execution_count": null,
      "metadata": {
        "colab": {
          "base_uri": "https://localhost:8080/"
        },
        "id": "GIEvgGkZv7YB",
        "outputId": "5860abba-361d-406d-a4e9-3a3f0a9f7f79"
      },
      "outputs": [
        {
          "output_type": "stream",
          "name": "stdout",
          "text": [
            "{'Banana': 1200, 'Ananá': 2500, 'Melón': 3000, 'Uva': 1450}\n"
          ]
        }
      ],
      "source": [
        "# Creamos el diccionado proporcionado en el enunciado\n",
        "precios_frutas = {'Banana': 1200, 'Ananá': 2500, 'Melón': 3000, 'Uva': 1450}\n",
        "\n",
        "# Imprimimos el diccionario original\n",
        "print(precios_frutas)"
      ]
    },
    {
      "cell_type": "code",
      "source": [
        "# Agregamos, una a una, las frutas nuevas\n",
        "# Como estas keys no existen en el diccionario, se añadirán\n",
        "precios_frutas[\"Naranja\"] = 1200\n",
        "precios_frutas[\"Manzana\"] = 1500\n",
        "precios_frutas[\"Pera\"] = 2300\n",
        "\n",
        "# Imprimimos la nueva versión del diccionario\n",
        "print(precios_frutas)"
      ],
      "metadata": {
        "colab": {
          "base_uri": "https://localhost:8080/"
        },
        "id": "hMefqXmcaxeX",
        "outputId": "df262db1-c441-4287-b969-1c94e9be8fee"
      },
      "execution_count": null,
      "outputs": [
        {
          "output_type": "stream",
          "name": "stdout",
          "text": [
            "{'Banana': 1200, 'Ananá': 2500, 'Melón': 3000, 'Uva': 1450, 'Naranja': 1200, 'Manzana': 1500, 'Pera': 2300}\n"
          ]
        }
      ]
    },
    {
      "cell_type": "markdown",
      "source": [
        "#### **Ejercicio 2**\n",
        "\n",
        "Siguiendo con el diccionario precios_frutas que resulta luego de ejecutar el código desarrollado en el punto anterior, actualizar los precios de las siguientes frutas:\n",
        "* Banana = 1330\n",
        "* Manzana = 1700\n",
        "* Melón = 2800"
      ],
      "metadata": {
        "id": "ldvCi822wPWE"
      }
    },
    {
      "cell_type": "code",
      "source": [
        "# Modificamos, uno a uno, los precios de las frutas\n",
        "# Como estas keys ya existen en el diccionario, se modificarán\n",
        "precios_frutas[\"Banana\"] = 1330\n",
        "precios_frutas[\"Manzana\"] = 1700\n",
        "precios_frutas[\"Melón\"] = 2800\n",
        "\n",
        "# Imprimimos la nueva versión del diccionario\n",
        "print(precios_frutas)"
      ],
      "metadata": {
        "colab": {
          "base_uri": "https://localhost:8080/"
        },
        "id": "okOnGVOiwTDf",
        "outputId": "ef89574a-abd1-43e9-9f30-1df6252f08d5"
      },
      "execution_count": null,
      "outputs": [
        {
          "output_type": "stream",
          "name": "stdout",
          "text": [
            "{'Banana': 1330, 'Ananá': 2500, 'Melón': 2800, 'Uva': 1450, 'Naranja': 1200, 'Manzana': 1700, 'Pera': 2300}\n"
          ]
        }
      ]
    },
    {
      "cell_type": "markdown",
      "source": [
        "#### **Ejercicio 3**\n",
        "\n",
        "Siguiendo con el diccionario precios_frutas que resulta luego de ejecutar el código desarrollado en el punto anterior, obtener únicamente las frutas sin los precios."
      ],
      "metadata": {
        "id": "wDEL_sj9xP5J"
      }
    },
    {
      "cell_type": "code",
      "source": [
        "# Las frutas son las keys del diccionario, por lo que podemos obtenerlas con el método .keys()\n",
        "frutas = precios_frutas.keys()\n",
        "\n",
        "# Imprimimos el resultado\n",
        "print(frutas)"
      ],
      "metadata": {
        "id": "fje1uTu1xTA-",
        "colab": {
          "base_uri": "https://localhost:8080/"
        },
        "outputId": "d0bf8462-1398-4eef-a0c1-fcf4fc333c0a"
      },
      "execution_count": null,
      "outputs": [
        {
          "output_type": "stream",
          "name": "stdout",
          "text": [
            "dict_keys(['Banana', 'Ananá', 'Melón', 'Uva', 'Naranja', 'Manzana', 'Pera'])\n"
          ]
        }
      ]
    },
    {
      "cell_type": "code",
      "source": [
        "# Como vemos, la estructura obtenida no es una lista nativa de Python\n",
        "# Sin embargo, podemos convertirla a lista usando la función list()\n",
        "\n",
        "frutas = list(frutas)\n",
        "\n",
        "print(frutas)"
      ],
      "metadata": {
        "colab": {
          "base_uri": "https://localhost:8080/"
        },
        "id": "qoMuTo3Hbq0t",
        "outputId": "5a4344fb-7ab3-49b4-86e3-2434b40d5ca8"
      },
      "execution_count": null,
      "outputs": [
        {
          "output_type": "stream",
          "name": "stdout",
          "text": [
            "['Banana', 'Ananá', 'Melón', 'Uva', 'Naranja', 'Manzana', 'Pera']\n"
          ]
        }
      ]
    },
    {
      "cell_type": "markdown",
      "source": [
        "#### **Ejercicio 4**\n",
        "\n",
        "Escribí un programa que permita almacenar y consultar números telefónicos.\n",
        "* Permití al usuario cargar 5 contactos con su nombre como clave y número como valor.\n",
        "* Luego, pedí un nombre y mostrale el número asociado, si existe.\n"
      ],
      "metadata": {
        "id": "FbOKjXEexVAD"
      }
    },
    {
      "cell_type": "code",
      "source": [
        "contactos = {}\n",
        "\n",
        "for _ in range(5):\n",
        "    nombre = input(\"Ingresá el nombre del contacto: \")\n",
        "    numero = input(f\"Ingresá el número de {nombre}: \")\n",
        "    contactos[nombre] = numero\n",
        "\n",
        "consulta = input(\"Ingresá el nombre del contacto a consultar: \")\n",
        "\n",
        "if consulta in contactos:\n",
        "    print(f\"El número de {consulta} es {contactos[consulta]}\")\n",
        "else:\n",
        "    print(\"Contacto no encontrado.\")\n"
      ],
      "metadata": {
        "id": "Vzn_ojNVxZHV"
      },
      "execution_count": null,
      "outputs": []
    },
    {
      "cell_type": "markdown",
      "source": [
        "#### **Ejercicio 5**\n",
        "\n",
        "Solicitá al usuario una frase e imprimí:\n",
        "\n",
        "* Las palabras únicas (usando un set).\n",
        "* Un diccionario con la cantidad de veces que aparece cada palabra.\n",
        "\n",
        "Ejemplo:\n",
        "\n",
        "Entrada: \"hola mundo hola\"\n",
        "\n",
        "Salida:\n",
        "\n",
        "```\n",
        "Palabras únicas: {'hola', 'mundo'}\n",
        "Recuento: {'hola': 2, 'mundo': 1}\n",
        "```\n",
        "\n"
      ],
      "metadata": {
        "id": "5a4UC4xNxmut"
      }
    },
    {
      "cell_type": "code",
      "source": [
        "frase = input(\"Ingresá una frase: \")\n",
        "palabras = frase.split()\n",
        "\n",
        "unicas = set(palabras)\n",
        "print(\"Palabras únicas:\", unicas)\n",
        "\n",
        "recuento = {}\n",
        "for palabra in palabras:\n",
        "    if palabra in recuento:\n",
        "        recuento[palabra] += 1\n",
        "    else:\n",
        "        recuento[palabra] = 1\n",
        "\n",
        "print(\"Recuento:\", recuento)\n"
      ],
      "metadata": {
        "id": "tkh4zwFHxrMa"
      },
      "execution_count": null,
      "outputs": []
    },
    {
      "cell_type": "markdown",
      "source": [
        "#### **Ejercicio 6**\n",
        "\n",
        "Permití ingresar los nombres de 3 alumnos, y para cada uno una tupla de 3 notas.\n",
        "\n",
        "Luego, mostrá el promedio de cada alumno.\n",
        "\n",
        "Ejemplo:\n",
        "\n",
        "```\n",
        "alumnos = {\n",
        "    \"Sofía\": (10, 9, 8),\n",
        "    \"Luis\": (6, 7, 7)\n",
        "}\n",
        "```"
      ],
      "metadata": {
        "id": "Ryfani-Rug5V"
      }
    },
    {
      "cell_type": "code",
      "source": [
        "alumnos = {}\n",
        "\n",
        "for _ in range(3):\n",
        "    nombre = input(\"Nombre del alumno: \")\n",
        "    notas = []\n",
        "    for i in range(3):\n",
        "        nota = float(input(f\"Ingresá la nota {i+1} de {nombre}: \"))\n",
        "        notas.append(nota)\n",
        "    alumnos[nombre] = tuple(notas)\n",
        "\n",
        "for alumno, notas in alumnos.items():\n",
        "    promedio = sum(notas) / len(notas)\n",
        "    print(f\"{alumno} tiene un promedio de {promedio:.2f}\")\n"
      ],
      "metadata": {
        "id": "vxFZeYfwuwKa"
      },
      "execution_count": null,
      "outputs": []
    },
    {
      "cell_type": "markdown",
      "source": [
        "#### **Ejercicio 7**\n",
        "\n",
        "Dado dos sets de números, representando dos listas de estudiantes que aprobaron Parcial 1 y Parcial 2:\n",
        "\n",
        "* Mostrá los que aprobaron ambos parciales.\n",
        "* Mostrá los que aprobaron solo uno de los dos.\n",
        "* Mostrá la lista total de estudiantes que aprobaron al menos un parcial (sin repetir)."
      ],
      "metadata": {
        "id": "p84MCEhbuxVT"
      }
    },
    {
      "cell_type": "code",
      "source": [
        "parcial1 = {1, 2, 3, 4, 5}\n",
        "parcial2 = {4, 5, 6, 7, 8}\n",
        "\n",
        "ambos = parcial1 & parcial2\n",
        "solo_uno = parcial1 ^ parcial2\n",
        "al_menos_uno = parcial1 | parcial2\n",
        "\n",
        "print(\"Aprobaron ambos:\", ambos)\n",
        "print(\"Aprobaron solo uno:\", solo_uno)\n",
        "print(\"Aprobaron al menos uno:\", al_menos_uno)\n"
      ],
      "metadata": {
        "id": "nWaf9zVOu41B"
      },
      "execution_count": null,
      "outputs": []
    },
    {
      "cell_type": "markdown",
      "source": [
        "#### **Ejercicio 8**\n",
        "\n",
        "Armá un diccionario donde las claves sean nombres de productos y los valores su stock. Permití al usuario:\n",
        "\n",
        "* Consultar el stock de un producto ingresado.\n",
        "* Agregar unidades al stock si el producto ya existe.\n",
        "* Agregar un nuevo producto si no existe."
      ],
      "metadata": {
        "id": "Jj3e9KHFu9bE"
      }
    },
    {
      "cell_type": "code",
      "source": [
        "productos = {\n",
        "    \"manzanas\": 10,\n",
        "    \"bananas\": 5,\n",
        "    \"naranjas\": 8\n",
        "}\n",
        "\n",
        "producto = input(\"Ingresá el nombre del producto: \")\n",
        "\n",
        "if producto in productos:\n",
        "    agregar = int(input(\"¿Cuántas unidades querés agregar?: \"))\n",
        "    productos[producto] += agregar\n",
        "    print(f\"Nuevo stock de {producto}: {productos[producto]}\")\n",
        "else:\n",
        "    nuevo_stock = int(input(\"Producto nuevo. Ingresá el stock inicial: \"))\n",
        "    productos[producto] = nuevo_stock\n",
        "    print(f\"Producto {producto} agregado con {nuevo_stock} unidades.\")\n"
      ],
      "metadata": {
        "id": "WbXo0YIyvEPd"
      },
      "execution_count": null,
      "outputs": []
    },
    {
      "cell_type": "markdown",
      "source": [
        "#### **Ejercicio 9**\n",
        "\n",
        "Creá una agenda donde las claves sean tuplas de (día, hora) y los valores sean eventos.\n",
        "\n",
        "Ejemplo:\n",
        "\n",
        "```\n",
        "agenda = {\n",
        "    (\"lunes\", \"10:00\"): \"Reunión\",\n",
        "    (\"martes\", \"15:00\"): \"Clase de inglés\"\n",
        "}\n",
        "```\n",
        "Permití consultar qué actividad hay en cierto día y hora."
      ],
      "metadata": {
        "id": "IBJlt4vbvGjW"
      }
    },
    {
      "cell_type": "code",
      "source": [
        "agenda = {\n",
        "    (\"lunes\", \"10:00\"): \"Reunión\",\n",
        "    (\"martes\", \"15:00\"): \"Clase de inglés\",\n",
        "    (\"viernes\", \"18:00\"): \"Gimnasio\"\n",
        "}\n",
        "\n",
        "dia = input(\"Ingresá el día: \").lower()\n",
        "hora = input(\"Ingresá la hora (ej: 10:00): \")\n",
        "\n",
        "clave = (dia, hora)\n",
        "\n",
        "if clave in agenda:\n",
        "    print(f\"Actividad: {agenda[clave]}\")\n",
        "else:\n",
        "    print(\"No hay actividades programadas.\")\n"
      ],
      "metadata": {
        "id": "23VFv4Y2vRtI"
      },
      "execution_count": null,
      "outputs": []
    },
    {
      "cell_type": "markdown",
      "source": [
        "#### Ejercicio 10\n",
        "Dado un diccionario que mapea nombres de países con sus capitales, construí un nuevo diccionario donde:\n",
        "* Las capitales sean las claves.\n",
        "* Los países sean los valores.\n",
        "\n",
        "Ejemplo:\n",
        "\n",
        "```\n",
        "original = {\"Argentina\": \"Buenos Aires\", \"Chile\": \"Santiago\"}\n",
        "invertido = {\"Buenos Aires\": \"Argentina\", \"Santiago\": \"Chile\"}\n",
        "```"
      ],
      "metadata": {
        "id": "VOyjN8P7CB6K"
      }
    },
    {
      "cell_type": "code",
      "source": [
        "paises = {\n",
        "    \"Argentina\": \"Buenos Aires\",\n",
        "    \"Chile\": \"Santiago\",\n",
        "    \"Brasil\": \"Brasilia\"\n",
        "}\n",
        "\n",
        "invertido = {}\n",
        "\n",
        "for pais, capital in paises.items():\n",
        "    invertido[capital] = pais\n",
        "\n",
        "print(\"Diccionario original:\", paises)\n",
        "print(\"Diccionario invertido:\", invertido)\n"
      ],
      "metadata": {
        "id": "iJcF6GJmCBQz"
      },
      "execution_count": null,
      "outputs": []
    }
  ]
}